{
 "cells": [
  {
   "cell_type": "markdown",
   "id": "4deafda9",
   "metadata": {},
   "source": [
    "#### Numeric Veri Tipleri\n",
    "\n",
    "1. Integer\n",
    "2. Float\n",
    "3. Complex\n"
   ]
  },
  {
   "cell_type": "code",
   "execution_count": 1,
   "id": "ee4a9c2a-dc50-41cb-88bb-b7d9c7c9a139",
   "metadata": {},
   "outputs": [
    {
     "name": "stdout",
     "output_type": "stream",
     "text": [
      "A'nın veri tipi:  <class 'int'>\n",
      "B'nin veri tipi:  <class 'float'>\n",
      "C'nin veri tipi:  <class 'complex'>\n"
     ]
    }
   ],
   "source": [
    "a = 1\n",
    "b = 5.5 #Ondalıklı sayılar Python'da \".\" ile gösterilir.\n",
    "c= 5j #Karmaşık sayılardaki \"i\" Python'da \"j\" ile gösterilir.\n",
    "\n",
    "#print fonksiyonu ile ekrana çıktı yazdırılır.\n",
    "#type fonksiyonu ile de veri tipinin ne olduğu incelenir.\n",
    "\n",
    "print(\"A'nın veri tipi: \",type(a))      \n",
    "print(\"B'nin veri tipi: \",type(b))     \n",
    "print(\"C'nin veri tipi: \",type(c))\n"
   ]
  },
  {
   "cell_type": "markdown",
   "id": "89a9e999",
   "metadata": {},
   "source": [
    "#### Boolean Veri Tipi "
   ]
  },
  {
   "cell_type": "code",
   "execution_count": 8,
   "id": "013ddcfb",
   "metadata": {},
   "outputs": [
    {
     "name": "stdout",
     "output_type": "stream",
     "text": [
      "'cevap' değişkeninin veri tipi:  <class 'bool'>\n",
      "'sonuc' değişkeninin veri tipi:  <class 'bool'>\n"
     ]
    }
   ],
   "source": [
    "cevap = True\n",
    "sonuc = False\n",
    "print(\"'cevap' değişkeninin veri tipi: \", type(cevap))\n",
    "print(\"'sonuc' değişkeninin veri tipi: \", type(sonuc))"
   ]
  },
  {
   "cell_type": "markdown",
   "id": "9e0624ee",
   "metadata": {},
   "source": [
    "#### Dictionary (Sözlük) Veri Tipi"
   ]
  },
  {
   "cell_type": "code",
   "execution_count": 9,
   "id": "f9e0d6f4",
   "metadata": {},
   "outputs": [
    {
     "name": "stdout",
     "output_type": "stream",
     "text": [
      "17\n"
     ]
    }
   ],
   "source": [
    "sozluk = {'anahtar': 17}\n",
    "print(sozluk['anahtar'])"
   ]
  },
  {
   "cell_type": "code",
   "execution_count": 15,
   "id": "fd0be159",
   "metadata": {},
   "outputs": [
    {
     "name": "stdout",
     "output_type": "stream",
     "text": [
      "[10, 20, 30, 40, 50]\n"
     ]
    }
   ],
   "source": [
    "sozluk = {'liste_anahtari': [10,20,30,40,50], 'ikinci_liste_anahtari': {'delta': 7}}\n",
    "print(sozluk['liste_anahtari'])"
   ]
  },
  {
   "cell_type": "code",
   "execution_count": 16,
   "id": "aafdfb2c",
   "metadata": {},
   "outputs": [
    {
     "name": "stdout",
     "output_type": "stream",
     "text": [
      "{'delta': 7}\n",
      "7\n"
     ]
    }
   ],
   "source": [
    "print(sozluk['ikinci_liste_anahtari'])\n",
    "print(sozluk['ikinci_liste_anahtari']['delta'])"
   ]
  },
  {
   "cell_type": "code",
   "execution_count": 17,
   "id": "1af070ce",
   "metadata": {},
   "outputs": [
    {
     "name": "stdout",
     "output_type": "stream",
     "text": [
      "{1914: ['Red Sox', 5, 10, 0], 1915: ['Red Sox', 43, 104, 4]}\n",
      "['Red Sox', 5, 10, 0]\n"
     ]
    }
   ],
   "source": [
    "career_stats = {'babe_ruth': {1914: [\"Red Sox\", 5, 10, 0], 1915:['Red Sox', 43, 104, 4]},\n",
    "                'gavvy_cravath': {1914: ['Phillies',149,604,14]}}\n",
    "print(career_stats['babe_ruth'])\n",
    "print(career_stats['babe_ruth'][1914])"
   ]
  },
  {
   "cell_type": "markdown",
   "id": "7911ec50",
   "metadata": {},
   "source": [
    "#### Anahtar olarak bir integer değer kullanabileceğimiz gibi değişmez olan herhangi bir nesne anahtar olarak kullanılabilir. Bu, listeleri anahtar olarak kullanamayacağımız, ancak tupleları kullanabileceğimiz anlamına gelir. "
   ]
  },
  {
   "cell_type": "code",
   "execution_count": 19,
   "id": "19d2a3a0",
   "metadata": {},
   "outputs": [
    {
     "name": "stdout",
     "output_type": "stream",
     "text": [
      "babe_ruth {1914: ['Red Sox', 5, 10, 0], 1915: ['Red Sox', 43, 104, 4]}\n",
      "gavvy_cravath {1914: ['Phillies', 149, 604, 14]}\n",
      "('a', 'new', 'player') ['Reds', 12, 34, 8]\n"
     ]
    }
   ],
   "source": [
    "# Key değerini tuple veri tipi olarak tanımlama\n",
    "career_stats[('a','new','player')] = ['Reds',12, 34, 8]\n",
    "\n",
    "for key, val in career_stats.items(): # Items her key ve value değerine erişmemizi sağlar\n",
    "    print(key, val)"
   ]
  },
  {
   "cell_type": "code",
   "execution_count": 20,
   "id": "5afb77f5",
   "metadata": {},
   "outputs": [
    {
     "name": "stdout",
     "output_type": "stream",
     "text": [
      "dict_keys(['babe_ruth', 'gavvy_cravath', ('a', 'new', 'player')])\n",
      "dict_values([{1914: ['Red Sox', 5, 10, 0], 1915: ['Red Sox', 43, 104, 4]}, {1914: ['Phillies', 149, 604, 14]}, ['Reds', 12, 34, 8]])\n"
     ]
    }
   ],
   "source": [
    "# Ek olarak sadece key ve value değerine de ulaşılabilir.\n",
    "print(career_stats.keys())\n",
    "print(career_stats.values())"
   ]
  },
  {
   "cell_type": "code",
   "execution_count": 22,
   "id": "2220b0e8",
   "metadata": {},
   "outputs": [
    {
     "ename": "TypeError",
     "evalue": "unhashable type: 'list'",
     "output_type": "error",
     "traceback": [
      "\u001b[1;31m---------------------------------------------------------------------------\u001b[0m",
      "\u001b[1;31mTypeError\u001b[0m                                 Traceback (most recent call last)",
      "\u001b[1;32m~\\AppData\\Local\\Temp\\ipykernel_12356\\2871626957.py\u001b[0m in \u001b[0;36m<module>\u001b[1;34m\u001b[0m\n\u001b[0;32m      1\u001b[0m \u001b[1;31m# Key değerini liste veri tipinde tanımlama\u001b[0m\u001b[1;33m\u001b[0m\u001b[1;33m\u001b[0m\u001b[0m\n\u001b[1;32m----> 2\u001b[1;33m \u001b[0mcareer_stats\u001b[0m\u001b[1;33m[\u001b[0m\u001b[1;33m[\u001b[0m\u001b[1;34m'a'\u001b[0m\u001b[1;33m,\u001b[0m\u001b[1;34m'new'\u001b[0m\u001b[1;33m,\u001b[0m\u001b[1;34m'player'\u001b[0m\u001b[1;33m]\u001b[0m\u001b[1;33m]\u001b[0m \u001b[1;33m=\u001b[0m \u001b[1;33m[\u001b[0m\u001b[1;34m'Reds'\u001b[0m\u001b[1;33m,\u001b[0m\u001b[1;36m12\u001b[0m\u001b[1;33m,\u001b[0m \u001b[1;36m34\u001b[0m\u001b[1;33m,\u001b[0m \u001b[1;36m8\u001b[0m\u001b[1;33m]\u001b[0m\u001b[1;33m\u001b[0m\u001b[1;33m\u001b[0m\u001b[0m\n\u001b[0m",
      "\u001b[1;31mTypeError\u001b[0m: unhashable type: 'list'"
     ]
    }
   ],
   "source": [
    "# Key değerini liste veri tipinde tanımlama\n",
    "career_stats[['a','new','player']] = ['Reds',12, 34, 8]"
   ]
  },
  {
   "cell_type": "code",
   "execution_count": null,
   "id": "d2844bc1",
   "metadata": {},
   "outputs": [],
   "source": []
  }
 ],
 "metadata": {
  "kernelspec": {
   "display_name": "Python 3 (ipykernel)",
   "language": "python",
   "name": "python3"
  },
  "language_info": {
   "codemirror_mode": {
    "name": "ipython",
    "version": 3
   },
   "file_extension": ".py",
   "mimetype": "text/x-python",
   "name": "python",
   "nbconvert_exporter": "python",
   "pygments_lexer": "ipython3",
   "version": "3.9.13"
  }
 },
 "nbformat": 4,
 "nbformat_minor": 5
}
