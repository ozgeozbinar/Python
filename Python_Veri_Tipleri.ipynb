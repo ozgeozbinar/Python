{
 "cells": [
  {
   "cell_type": "markdown",
   "id": "4deafda9",
   "metadata": {},
   "source": [
    "#### Numeric Veri Tipleri\n",
    "1. Integer\n",
    "2. Float\n",
    "3. Complex"
   ]
  },
  {
   "cell_type": "code",
   "execution_count": 1,
   "id": "ee4a9c2a-dc50-41cb-88bb-b7d9c7c9a139",
   "metadata": {},
   "outputs": [
    {
     "name": "stdout",
     "output_type": "stream",
     "text": [
      "A'nın veri tipi:  <class 'int'>\n",
      "B'nin veri tipi:  <class 'float'>\n",
      "C'nin veri tipi:  <class 'complex'>\n"
     ]
    }
   ],
   "source": [
    "a = 1\n",
    "b = 5.5 #Ondalıklı sayılar Python'da \".\" ile gösterilir.\n",
    "c= 5j #Karmaşık sayılardaki \"i\" Python'da \"j\" ile gösterilir.\n",
    "\n",
    "#print fonksiyonu ile ekrana çıktı yazdırılır.\n",
    "#type fonksiyonu ile de veri tipinin ne olduğu incelenir.\n",
    "\n",
    "print(\"A'nın veri tipi: \",type(a))      \n",
    "print(\"B'nin veri tipi: \",type(b))     \n",
    "print(\"C'nin veri tipi: \",type(c))\n"
   ]
  },
  {
   "cell_type": "markdown",
   "id": "89a9e999",
   "metadata": {},
   "source": [
    "#### Boolean Veri Tipi "
   ]
  },
  {
   "cell_type": "code",
   "execution_count": 2,
   "id": "013ddcfb",
   "metadata": {},
   "outputs": [
    {
     "name": "stdout",
     "output_type": "stream",
     "text": [
      "'cevap' değişkeninin veri tipi:  <class 'bool'>\n",
      "'sonuc' değişkeninin veri tipi:  <class 'bool'>\n"
     ]
    }
   ],
   "source": [
    "cevap = True\n",
    "sonuc = False\n",
    "print(\"'cevap' değişkeninin veri tipi: \", type(cevap))\n",
    "print(\"'sonuc' değişkeninin veri tipi: \", type(sonuc))"
   ]
  },
  {
   "cell_type": "markdown",
   "id": "9e0624ee",
   "metadata": {},
   "source": [
    "#### Dictionary Veri Tipi"
   ]
  },
  {
   "cell_type": "code",
   "execution_count": 3,
   "id": "f9e0d6f4",
   "metadata": {},
   "outputs": [
    {
     "name": "stdout",
     "output_type": "stream",
     "text": [
      "17\n"
     ]
    }
   ],
   "source": [
    "sozluk = {'anahtar': 17} #\"Anahtar\" ifadesiyle bir key tanımı yapıldı ve bu içinde \"17\" değerini bulunduruyor.\n",
    "print(sozluk['anahtar'])"
   ]
  },
  {
   "cell_type": "code",
   "execution_count": 4,
   "id": "fd0be159",
   "metadata": {},
   "outputs": [
    {
     "name": "stdout",
     "output_type": "stream",
     "text": [
      "[10, 20, 30, 40, 50]\n"
     ]
    }
   ],
   "source": [
    "sozluk = {'liste_anahtari': [10,20,30,40,50], #Sözlüklerin liste biçimiyle de kullanılabilir.\n",
    "          'ikinci_liste_anahtari': {'delta': 7}} \n",
    "print(sozluk['liste_anahtari'])"
   ]
  },
  {
   "cell_type": "code",
   "execution_count": 5,
   "id": "1af070ce",
   "metadata": {},
   "outputs": [
    {
     "name": "stdout",
     "output_type": "stream",
     "text": [
      "{2020: ['Satış Danışmanı', 23, 7000], 2021: ['Satış Yöneticisi', 24, 10000]}\n",
      "['Reyon Yöneticisi', 22, 8500]\n"
     ]
    }
   ],
   "source": [
    "# 1. personel isimli bir sözlük oluşturuldu.\n",
    "# 2. Burada Özge ve Merve isimli iki personel mevcut.\n",
    "# 3. 2020 ve 2021 yıllarında personellerin sırasıyla çalıştıkları pozisyonlar, yaşları ve maaşları bulunmakta.\n",
    "# 4. \"print(personel['Özge'])\" ifadesi ile, Özge isimle personelin tüm verileri ekrana yazdırıldı.\n",
    "# 5.\"print(personel['Merve'][2021])\" ifadesi ile de Merve isimli personelin 2021 yılına ait verileri ekrana yazdırıldı.\n",
    "\n",
    "personel = {'Özge': {2020: ['Satış Danışmanı', 23, 7000], 2021:['Satış Yöneticisi', 24, 10000]},\n",
    "           'Merve': {2020: ['Reyon Sorumlusu', 21, 6000], 2021:['Reyon Yöneticisi', 22, 8500]}}    \n",
    "\n",
    "print(personel['Özge'])\n",
    "print(personel['Merve'][2021])"
   ]
  },
  {
   "cell_type": "code",
   "execution_count": 6,
   "id": "5afb77f5",
   "metadata": {},
   "outputs": [
    {
     "name": "stdout",
     "output_type": "stream",
     "text": [
      "dict_keys(['Özge', 'Merve'])\n",
      "dict_values([{2020: ['Satış Danışmanı', 23, 7000], 2021: ['Satış Yöneticisi', 24, 10000]}, {2020: ['Reyon Sorumlusu', 21, 6000], 2021: ['Reyon Yöneticisi', 22, 8500]}])\n"
     ]
    }
   ],
   "source": [
    "print(personel.keys()) #personel verisindeki tüm anahtarlar \n",
    "print(personel.values()) #personel verisindeki tüm değerler"
   ]
  },
  {
   "cell_type": "markdown",
   "id": "70ba92df",
   "metadata": {},
   "source": [
    "#### Set Veri Tipi"
   ]
  },
  {
   "cell_type": "code",
   "execution_count": 7,
   "id": "5d529766",
   "metadata": {},
   "outputs": [
    {
     "name": "stdout",
     "output_type": "stream",
     "text": [
      "{1, 2, 3, 4, 5, 6, 7, 8}\n"
     ]
    }
   ],
   "source": [
    "liste = [2,3,5,6,7,7,2,1,4,6,8] #Liste oluşturduk.\n",
    "kume = set(liste) #\"set\" yapısı ile oluşturduğumuz listeyi küme haline getirdik.\n",
    "print(kume)"
   ]
  },
  {
   "cell_type": "code",
   "execution_count": 8,
   "id": "5e557b74",
   "metadata": {},
   "outputs": [
    {
     "name": "stdout",
     "output_type": "stream",
     "text": [
      "Birleşim:  {1, 4, 8, 9, 12, 16, 20, 24, 25, 28}\n",
      "Kesişim:  {16, 4}\n"
     ]
    }
   ],
   "source": [
    "kume_A = {1,4,9,16,25} #\"kume_A\" ve \"kume_B\" isimli iki küme oluşturuldu.\n",
    "kume_B = {4,8,12,16,20,24,28}\n",
    "\n",
    "print(\"Birleşim: \", kume_A.union(kume_B)) #\"union\" yapısı ile kümeler birleştirildi.\n",
    "print(\"Kesişim: \", kume_A.intersection(kume_B)) #intersection\" yapısı ile kümelerin kesişimi alındı."
   ]
  },
  {
   "cell_type": "markdown",
   "id": "bf1eb591",
   "metadata": {},
   "source": [
    "#### Sequence Veri Tipleri\n",
    "1. String\n",
    "2. List\n",
    "3. Tuple"
   ]
  },
  {
   "cell_type": "code",
   "execution_count": 9,
   "id": "b62d0609",
   "metadata": {},
   "outputs": [
    {
     "name": "stdout",
     "output_type": "stream",
     "text": [
      "<class 'str'>\n"
     ]
    }
   ],
   "source": [
    "#1. String\n",
    "meslek = \"Veri Analisti\"\n",
    "print(type(meslek))"
   ]
  },
  {
   "cell_type": "code",
   "execution_count": 10,
   "id": "a49761f4",
   "metadata": {},
   "outputs": [
    {
     "name": "stdout",
     "output_type": "stream",
     "text": [
      "[5, 10, 15, 20, [25, 30, 35], 40]\n"
     ]
    }
   ],
   "source": [
    "#2. List\n",
    "liste = [5,10,15,20,[25,30,35],40] #Liste oluşturma\n",
    "print(liste)"
   ]
  },
  {
   "cell_type": "code",
   "execution_count": 11,
   "id": "664e3eeb",
   "metadata": {},
   "outputs": [
    {
     "data": {
      "text/plain": [
       "['Yeni Değişken', 10, 15, 20, [25, 30, 35], 40]"
      ]
     },
     "execution_count": 11,
     "metadata": {},
     "output_type": "execute_result"
    }
   ],
   "source": [
    "liste[0] = 'Yeni Değişken' #Listenin ilk elemanına \"Yeni Değişken\" isimli bir eleman eklendi.\n",
    "liste"
   ]
  },
  {
   "cell_type": "code",
   "execution_count": 12,
   "id": "e48dc83b",
   "metadata": {},
   "outputs": [
    {
     "name": "stdout",
     "output_type": "stream",
     "text": [
      "['Yeni Değişken', 10, 15, 20, [25, 30, 35], 40, 'Delta']\n"
     ]
    }
   ],
   "source": [
    "liste.append(\"Delta\") #Listeye \"Delta\" isimli bir eleman eklendi.\n",
    "print(liste)"
   ]
  },
  {
   "cell_type": "code",
   "execution_count": 13,
   "id": "95d5a6fd",
   "metadata": {},
   "outputs": [
    {
     "name": "stdout",
     "output_type": "stream",
     "text": [
      "['Yeni Değişken', 10, 15, 'Analiz', 20, [25, 30, 35], 40, 'Delta']\n"
     ]
    }
   ],
   "source": [
    "liste.insert(3, \"Analiz\") #Listede 3. indise \"Analiz\" elemanı eklendi.\n",
    "print(liste)"
   ]
  },
  {
   "cell_type": "code",
   "execution_count": 14,
   "id": "4c6a135a",
   "metadata": {},
   "outputs": [
    {
     "name": "stdout",
     "output_type": "stream",
     "text": [
      "['Yeni Değişken', 15, 'Analiz', 20, [25, 30, 35], 40, 'Delta']\n"
     ]
    }
   ],
   "source": [
    "liste.remove(10) #Listeden \"10\" elemanı çıkarıldı.\n",
    "print(liste)"
   ]
  },
  {
   "cell_type": "code",
   "execution_count": 15,
   "id": "ab4845fa",
   "metadata": {},
   "outputs": [
    {
     "data": {
      "text/plain": [
       "['Yeni Değişken', 15, 'Analiz', 20, [25, 30, 35], 'Delta']"
      ]
     },
     "execution_count": 15,
     "metadata": {},
     "output_type": "execute_result"
    }
   ],
   "source": [
    "liste.pop(5) #Listeden 5. indisteki eleman çıkarıldı.\n",
    "liste"
   ]
  },
  {
   "cell_type": "code",
   "execution_count": 16,
   "id": "3f593b59",
   "metadata": {},
   "outputs": [
    {
     "name": "stdout",
     "output_type": "stream",
     "text": [
      "(7, 8, 9, 10, 'Delta', 'Mavi', 17)\n"
     ]
    },
    {
     "data": {
      "text/plain": [
       "tuple"
      ]
     },
     "execution_count": 16,
     "metadata": {},
     "output_type": "execute_result"
    }
   ],
   "source": [
    "#3. Tuple\n",
    "demet = (7,8,9,10,\"Delta\",\"Mavi\",17) #\"demet\" isimli bir tuple yapısı oluşturuldu.\n",
    "print(demet)\n",
    "type(demet)"
   ]
  },
  {
   "cell_type": "code",
   "execution_count": 17,
   "id": "0a0cc8f8",
   "metadata": {},
   "outputs": [
    {
     "name": "stdout",
     "output_type": "stream",
     "text": [
      "Delta\n"
     ]
    }
   ],
   "source": [
    "print(demet[4]) #\"demet\" isimli tupledeki 4. indise ulaşmak istiyoruz. Önemli not, indisler 0'dan başlar."
   ]
  },
  {
   "cell_type": "code",
   "execution_count": 18,
   "id": "8273ef44",
   "metadata": {},
   "outputs": [
    {
     "name": "stdout",
     "output_type": "stream",
     "text": [
      "(8, 9, 10)\n"
     ]
    }
   ],
   "source": [
    "# tuplede 1. indisten 4. indise kadar olan verileri almak istiyoruz.\n",
    "# indis aralığında seçim yaparken başlangıç indisi dahil edilir, bitiş indisi dahil edilmez.\n",
    "print(demet[1:4]) "
   ]
  },
  {
   "cell_type": "code",
   "execution_count": 19,
   "id": "d374b1d9",
   "metadata": {},
   "outputs": [
    {
     "name": "stdout",
     "output_type": "stream",
     "text": [
      "('Mavi', 17)\n"
     ]
    }
   ],
   "source": [
    "#sondan 2 indisteki elemanları almak için - olarak kullanılır.\n",
    "print(demet[-2:])"
   ]
  }
 ],
 "metadata": {
  "kernelspec": {
   "display_name": "Python 3 (ipykernel)",
   "language": "python",
   "name": "python3"
  },
  "language_info": {
   "codemirror_mode": {
    "name": "ipython",
    "version": 3
   },
   "file_extension": ".py",
   "mimetype": "text/x-python",
   "name": "python",
   "nbconvert_exporter": "python",
   "pygments_lexer": "ipython3",
   "version": "3.9.13"
  }
 },
 "nbformat": 4,
 "nbformat_minor": 5
}
